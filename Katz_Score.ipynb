{
 "cells": [
  {
   "cell_type": "code",
   "execution_count": 1,
   "metadata": {},
   "outputs": [],
   "source": [
    "def Katz_Score(Graph, beta=0.1):\n",
    "    # Graph = an object of graph class\n",
    "    # beta = weight for predicting \n",
    "    # Function returns the Katz score predicting the probability of missing link existence\n",
    "    # for each pair of (non-connected) nodes in a graph\n",
    "    ks = []\n",
    "    for i in Z.nodes:\n",
    "        for j in Z.nodes:\n",
    "            if i!=j and i<j and (i,j) not in list(Z.edges()):\n",
    "                paths = list(nx.all_simple_paths(Z, i, j, cutoff=10))\n",
    "                d = []\n",
    "                for path in paths:\n",
    "                    l = len(path)\n",
    "                    d.append(l)\n",
    "                length = pd.DataFrame(d, columns = [\"count\"])\n",
    "                df = pd.DataFrame(length[\"count\"].value_counts())\n",
    "                df['length'] = df.index\n",
    "                df.sort_values(by=['length'], inplace=True, ascending=False)\n",
    "                kss = []\n",
    "                for c, l in zip(df['count'], df['length']):\n",
    "                    KS = (b**l)*c\n",
    "                    kss.append(KS)\n",
    "                    katz = np.sum(kss)\n",
    "                ks.append([i,j, katz])\n",
    "        return ks"
   ]
  }
 ],
 "metadata": {
  "kernelspec": {
   "display_name": "Python 3",
   "language": "python",
   "name": "python3"
  },
  "language_info": {
   "codemirror_mode": {
    "name": "ipython",
    "version": 3
   },
   "file_extension": ".py",
   "mimetype": "text/x-python",
   "name": "python",
   "nbconvert_exporter": "python",
   "pygments_lexer": "ipython3",
   "version": "3.6.4"
  }
 },
 "nbformat": 4,
 "nbformat_minor": 2
}
